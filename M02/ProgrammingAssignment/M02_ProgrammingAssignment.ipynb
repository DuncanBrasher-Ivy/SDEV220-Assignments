{
 "cells": [
  {
   "cell_type": "code",
   "execution_count": 2,
   "id": "8cdc14aa-3342-44d0-8c50-3b4dc13039ee",
   "metadata": {},
   "outputs": [],
   "source": [
    "from random import randint"
   ]
  },
  {
   "cell_type": "code",
   "execution_count": 3,
   "id": "48e71caf-4092-485f-a624-4d5ba156221d",
   "metadata": {},
   "outputs": [],
   "source": [
    "secret = randint(1,10) # Maximum is actually 10. Inconsistency about [In/Ex]clusive ranges can **********."
   ]
  },
  {
   "cell_type": "code",
   "execution_count": 4,
   "id": "09a579fb-0b91-4bfa-8cfc-3ffc619f0966",
   "metadata": {},
   "outputs": [],
   "source": [
    "def doguess(attempts=1):\n",
    "    guess = int(input(\"Guess number\\n> \"))\n",
    "    if guess == secret:\n",
    "        print(f\"Just right!\\nYou took {attempts} attempts.\")\n",
    "    else:\n",
    "        print(\"Too\", \"high!\" if guess > secret else \"low!\")\n",
    "        doguess(attempts+1)\n"
   ]
  },
  {
   "cell_type": "code",
   "execution_count": 5,
   "id": "997db7e8-19d1-434e-b621-b1ee4c0fa4f1",
   "metadata": {},
   "outputs": [
    {
     "name": "stdin",
     "output_type": "stream",
     "text": [
      "Guess number\n",
      ">  5\n"
     ]
    },
    {
     "name": "stdout",
     "output_type": "stream",
     "text": [
      "Too high!\n"
     ]
    },
    {
     "name": "stdin",
     "output_type": "stream",
     "text": [
      "Guess number\n",
      ">  3\n"
     ]
    },
    {
     "name": "stdout",
     "output_type": "stream",
     "text": [
      "Just right!\n",
      "You took 2 attempts.\n"
     ]
    }
   ],
   "source": [
    "doguess()"
   ]
  },
  {
   "cell_type": "code",
   "execution_count": 6,
   "id": "08fc0c5b-3ee8-4c9f-ad4e-508f5d34c11a",
   "metadata": {},
   "outputs": [
    {
     "name": "stdout",
     "output_type": "stream",
     "text": [
      "3\n",
      "2\n",
      "1\n",
      "0\n"
     ]
    }
   ],
   "source": [
    "for n in [3, 2, 1, 0]:\n",
    "    print(n)"
   ]
  },
  {
   "cell_type": "code",
   "execution_count": 10,
   "id": "527a8faa-1829-47b3-a348-d95cb01add3f",
   "metadata": {},
   "outputs": [],
   "source": [
    "guess_me = 7\n",
    "number = 1"
   ]
  },
  {
   "cell_type": "code",
   "execution_count": 11,
   "id": "c702e109-69ed-4f35-b3a9-1f9e0cf65072",
   "metadata": {},
   "outputs": [
    {
     "name": "stdout",
     "output_type": "stream",
     "text": [
      "too low\n",
      "too low\n",
      "too low\n",
      "too low\n",
      "too low\n",
      "too low\n"
     ]
    }
   ],
   "source": [
    "while number < guess_me:\n",
    "    if number < guess_me:\n",
    "        print(\"too low\")\n",
    "    elif number > guess_me:\n",
    "        print(\"oops\")\n",
    "        break\n",
    "    else:\n",
    "        \"\"\"\n",
    "        Notice how this case will never be reached because the while loop exits once the value is met without running this final time?\n",
    "        Oops indeed!\n",
    "        \"\"\"\n",
    "        print(\"found it!\")\n",
    "        break\n",
    "    number += 1\n"
   ]
  },
  {
   "cell_type": "code",
   "execution_count": 12,
   "id": "cf6329ef-0d9a-4f0a-984a-08358f0896c7",
   "metadata": {},
   "outputs": [],
   "source": [
    "guess_me = 5"
   ]
  },
  {
   "cell_type": "code",
   "execution_count": 13,
   "id": "000cc703-37be-4f4b-9e6b-9cbe23b5b36c",
   "metadata": {},
   "outputs": [
    {
     "name": "stdout",
     "output_type": "stream",
     "text": [
      "too low\n",
      "too low\n",
      "too low\n",
      "too low\n",
      "too low\n",
      "found it!\n"
     ]
    }
   ],
   "source": [
    "for number in range(10):\n",
    "    if number < guess_me:\n",
    "        print('too low')\n",
    "    elif number == guess_me:\n",
    "        print('found it!')\n",
    "        break\n",
    "    else:\n",
    "        print('oops!')\n",
    "        break"
   ]
  }
 ],
 "metadata": {
  "kernelspec": {
   "display_name": "Python 3 (ipykernel)",
   "language": "python",
   "name": "python3"
  },
  "language_info": {
   "codemirror_mode": {
    "name": "ipython",
    "version": 3
   },
   "file_extension": ".py",
   "mimetype": "text/x-python",
   "name": "python",
   "nbconvert_exporter": "python",
   "pygments_lexer": "ipython3",
   "version": "3.11.8"
  }
 },
 "nbformat": 4,
 "nbformat_minor": 5
}
