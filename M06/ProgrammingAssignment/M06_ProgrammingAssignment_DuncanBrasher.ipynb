{
 "cells": [
  {
   "cell_type": "code",
   "execution_count": 1,
   "id": "560fc088-f2f4-42e6-8dfe-e6cbc25f5a8b",
   "metadata": {},
   "outputs": [],
   "source": [
    "from datetime import datetime"
   ]
  },
  {
   "cell_type": "code",
   "execution_count": 24,
   "id": "f077c728-391c-43ab-86bd-bc497b85c4a5",
   "metadata": {},
   "outputs": [
    {
     "name": "stdout",
     "output_type": "stream",
     "text": [
      "2024-04-28\n"
     ]
    }
   ],
   "source": [
    "now = datetime.now()\n",
    "fmt = \"%Y-%m-%d\"\n",
    "today_string = now.strftime(fmt)\n",
    "print(today_string)\n",
    "with open('today.txt', 'w') as f:\n",
    "    f.write(today_string)\n",
    "    f.close()\n"
   ]
  },
  {
   "cell_type": "code",
   "execution_count": 26,
   "id": "58dff5f1-9160-41fc-bd02-735b87dbd78b",
   "metadata": {},
   "outputs": [
    {
     "name": "stdout",
     "output_type": "stream",
     "text": [
      "2024-04-28\n",
      "2024-04-28 00:00:00\n"
     ]
    }
   ],
   "source": [
    "with open('today.txt', 'r') as f:\n",
    "    today_string = f.read()\n",
    "    f.close()\n",
    "print(today_string)\n",
    "now = datetime.strptime(today_string, fmt)\n",
    "print(now)\n"
   ]
  },
  {
   "cell_type": "code",
   "execution_count": 34,
   "id": "15901a66-f7a4-4c78-9c12-dc14d9a0ba40",
   "metadata": {},
   "outputs": [
    {
     "name": "stdout",
     "output_type": "stream",
     "text": [
      "2024-04-28 23:12:37.5633602024-04-28 23:12:37.565743\n",
      "\n",
      "2024-04-28 23:12:37.559649\n"
     ]
    }
   ],
   "source": [
    "from random import randint\n",
    "from time import sleep\n",
    "from datetime import datetime\n",
    "from multiprocessing import Process\n",
    "\n",
    "def proc():\n",
    "    sleep(1-(1/randint(1, 1000)))\n",
    "    print(datetime.now())\n",
    "\n",
    "for n in range(3):\n",
    "    Process(target=proc).start() # In the example saved, two lines are printed together. In most cases, each of the three timestamps is on a single line. My theory is that in some rare cases, two processes happen to get the same random delay and output at the same time. As I said, I've saved this file with an example of this strange case out of interest.\n"
   ]
  }
 ],
 "metadata": {
  "kernelspec": {
   "display_name": "Python 3 (ipykernel)",
   "language": "python",
   "name": "python3"
  },
  "language_info": {
   "codemirror_mode": {
    "name": "ipython",
    "version": 3
   },
   "file_extension": ".py",
   "mimetype": "text/x-python",
   "name": "python",
   "nbconvert_exporter": "python",
   "pygments_lexer": "ipython3",
   "version": "3.12.3"
  }
 },
 "nbformat": 4,
 "nbformat_minor": 5
}
