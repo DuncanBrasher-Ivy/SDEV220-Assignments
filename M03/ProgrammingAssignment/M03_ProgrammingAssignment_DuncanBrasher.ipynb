{
 "cells": [
  {
   "cell_type": "code",
   "execution_count": 16,
   "id": "f4fce36f-a8a1-4af9-8656-78c26ff0c4db",
   "metadata": {},
   "outputs": [],
   "source": [
    "things = [\"mozzarella\", \"cinderella\", \"Sam O'Nella\"] # Academy :)"
   ]
  },
  {
   "cell_type": "code",
   "execution_count": 17,
   "id": "4698da99-e8a0-49f1-b447-ca85d625814d",
   "metadata": {},
   "outputs": [
    {
     "data": {
      "text/plain": [
       "'CINDERELLA'"
      ]
     },
     "execution_count": 17,
     "metadata": {},
     "output_type": "execute_result"
    }
   ],
   "source": [
    "things[1].upper() # Is this what they meant? If so, then no, the value in the list won't change. If they meant something more like `things[1] = things[1].upper()`, then yes, it would change."
   ]
  },
  {
   "cell_type": "code",
   "execution_count": 18,
   "id": "f7d377c0-8e02-4c21-a8b5-aa35d130a9a5",
   "metadata": {},
   "outputs": [
    {
     "name": "stdout",
     "output_type": "stream",
     "text": [
      "['mozzarella', 'cinderella', \"Sam O'Nella\"]\n"
     ]
    }
   ],
   "source": [
    "print(things)"
   ]
  },
  {
   "cell_type": "code",
   "execution_count": 19,
   "id": "d3acb888-adb2-49c4-8c6a-7e9bd46c217e",
   "metadata": {},
   "outputs": [],
   "source": [
    "things[0] = things[0].upper() # Now do they want me to set it? These instructions are a bit vague."
   ]
  },
  {
   "cell_type": "code",
   "execution_count": 20,
   "id": "e507aeb5-245b-40ab-b2bf-a4ed5822eb66",
   "metadata": {},
   "outputs": [
    {
     "name": "stdout",
     "output_type": "stream",
     "text": [
      "['MOZZARELLA', 'cinderella', \"Sam O'Nella\"]\n"
     ]
    }
   ],
   "source": [
    "print(things)"
   ]
  },
  {
   "cell_type": "code",
   "execution_count": 25,
   "id": "1c1edb4e-cc8f-4e01-9f0c-eab433900a5f",
   "metadata": {},
   "outputs": [],
   "source": [
    "def not_until_Im_80():\n",
    "    print(\"Did you know that Mr. Nobell created the prize so people would stop hating him for inventing dynamite?\")\n"
   ]
  },
  {
   "cell_type": "code",
   "execution_count": 22,
   "id": "2cd24126-a71a-47de-ae3b-02267f9cbd24",
   "metadata": {},
   "outputs": [
    {
     "data": {
      "text/plain": [
       "\"Sam O'Nella\""
      ]
     },
     "execution_count": 22,
     "metadata": {},
     "output_type": "execute_result"
    }
   ],
   "source": [
    "things.pop(2)"
   ]
  },
  {
   "cell_type": "code",
   "execution_count": 27,
   "id": "bf84ec32-49f2-4904-bcd0-f9182c0d62d7",
   "metadata": {},
   "outputs": [
    {
     "name": "stdout",
     "output_type": "stream",
     "text": [
      "Did you know that Mr. Nobell created the prize so people would stop hating him for inventing dynamite?\n"
     ]
    }
   ],
   "source": [
    "not_until_Im_80()"
   ]
  },
  {
   "cell_type": "code",
   "execution_count": 28,
   "id": "067bc9d0-212a-4d22-b96a-3762cbd7bc41",
   "metadata": {},
   "outputs": [
    {
     "name": "stdout",
     "output_type": "stream",
     "text": [
      "['MOZZARELLA', 'cinderella']\n"
     ]
    }
   ],
   "source": [
    "print(things)"
   ]
  },
  {
   "cell_type": "code",
   "execution_count": 29,
   "id": "f810114a-286f-43e3-8cdd-df73fafda420",
   "metadata": {},
   "outputs": [
    {
     "name": "stdout",
     "output_type": "stream",
     "text": [
      "Not that different, considering his nonexistent upload schedule.\n"
     ]
    }
   ],
   "source": [
    "print(\"Not that different, considering his nonexistent upload schedule.\")"
   ]
  },
  {
   "cell_type": "code",
   "execution_count": 39,
   "id": "43eca911-eac7-404e-9605-231550ee6665",
   "metadata": {},
   "outputs": [],
   "source": [
    "surprise = [\"Groucho\", \"Chico\", \"Harpo\"] # I just realized I didn't need to do this part."
   ]
  },
  {
   "cell_type": "code",
   "execution_count": 40,
   "id": "58a21e26-5bd9-4645-9374-9045ebb74d22",
   "metadata": {},
   "outputs": [],
   "source": [
    "# Is this what they wanted? These instructions are so vague!\n",
    "surprise[-1] = surprise[-1].lower()\n",
    "surprise.reverse()\n",
    "surprise[-1] = surprise[-1].upper()"
   ]
  },
  {
   "cell_type": "code",
   "execution_count": 41,
   "id": "a42ad0b8-2ed3-4402-b8bd-e153c0936758",
   "metadata": {},
   "outputs": [
    {
     "name": "stdout",
     "output_type": "stream",
     "text": [
      "['harpo', 'Chico', 'GROUCHO']\n"
     ]
    }
   ],
   "source": [
    "print(surprise)"
   ]
  },
  {
   "cell_type": "code",
   "execution_count": 44,
   "id": "2c886e8f-fed9-48e8-8f7e-63d441c8dc7f",
   "metadata": {},
   "outputs": [],
   "source": [
    "even = [n for n in range(10) if n%2 == 0] # Or this part"
   ]
  },
  {
   "cell_type": "code",
   "execution_count": 45,
   "id": "f0e517b3-4dbb-4df5-b727-fd9241ae9b31",
   "metadata": {},
   "outputs": [
    {
     "name": "stdout",
     "output_type": "stream",
     "text": [
      "[0, 2, 4, 6, 8]\n"
     ]
    }
   ],
   "source": [
    "print(even)"
   ]
  },
  {
   "cell_type": "code",
   "execution_count": 46,
   "id": "46f7517b-2f78-43d3-bb52-fb3d84611893",
   "metadata": {},
   "outputs": [],
   "source": [
    "def good():\n",
    "    return ['Harry', 'Ron', 'Hermione']\n"
   ]
  },
  {
   "cell_type": "code",
   "execution_count": 47,
   "id": "f1b19b82-15bc-407f-b30d-7721a3f57833",
   "metadata": {},
   "outputs": [],
   "source": [
    "def get_odds():\n",
    "    return [n for n in range(10) if n%2 != 0]\n"
   ]
  },
  {
   "cell_type": "code",
   "execution_count": 49,
   "id": "f23646e3-c575-47e6-b4d6-2aa5b7603988",
   "metadata": {},
   "outputs": [
    {
     "name": "stdout",
     "output_type": "stream",
     "text": [
      "5\n"
     ]
    }
   ],
   "source": [
    "for n, v in enumerate(get_odds()): # No, but really! Is this what they wanted?!\n",
    "    if n == 2: # Now remember kids: 2 is 3rd out of 0, 1, 2\n",
    "        print(v)\n",
    "        break\n"
   ]
  }
 ],
 "metadata": {
  "kernelspec": {
   "display_name": "Python 3 (ipykernel)",
   "language": "python",
   "name": "python3"
  },
  "language_info": {
   "codemirror_mode": {
    "name": "ipython",
    "version": 3
   },
   "file_extension": ".py",
   "mimetype": "text/x-python",
   "name": "python",
   "nbconvert_exporter": "python",
   "pygments_lexer": "ipython3",
   "version": "3.11.8"
  }
 },
 "nbformat": 4,
 "nbformat_minor": 5
}
