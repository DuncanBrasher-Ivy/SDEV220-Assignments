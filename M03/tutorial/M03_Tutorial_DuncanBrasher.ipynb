{
 "cells": [
  {
   "cell_type": "code",
   "execution_count": 5,
   "id": "489d1aad-60b6-4765-b370-4a31e0c4c2db",
   "metadata": {},
   "outputs": [],
   "source": [
    "def sort012(arr):\n",
    "    N = len(arr) # The assignment said this should be defined, but I don't acutally need it and so don't want to have to pass it as an argument in every test, so here you go.\n",
    "    return [*[0]*arr.count(0), *[1]*arr.count(1), *[2]*arr.count(2)] # This is an excellent and not at all cursed solution, don't you agree?\n"
   ]
  },
  {
   "cell_type": "code",
   "execution_count": 2,
   "id": "9cbc4586-a857-4230-911d-1a55637aaffd",
   "metadata": {},
   "outputs": [
    {
     "data": {
      "text/plain": [
       "[0, 1, 2]"
      ]
     },
     "execution_count": 2,
     "metadata": {},
     "output_type": "execute_result"
    }
   ],
   "source": [
    "sort012([0, 1, 2])"
   ]
  },
  {
   "cell_type": "code",
   "execution_count": 3,
   "id": "bb7126eb-75c3-46a8-8148-d40cffdaf924",
   "metadata": {},
   "outputs": [
    {
     "data": {
      "text/plain": [
       "[0, 1, 2]"
      ]
     },
     "execution_count": 3,
     "metadata": {},
     "output_type": "execute_result"
    }
   ],
   "source": [
    "sort012([2, 1, 0])"
   ]
  },
  {
   "cell_type": "code",
   "execution_count": 4,
   "id": "dd6223f2-8a5c-430b-bf43-ceb6fa65190e",
   "metadata": {},
   "outputs": [
    {
     "data": {
      "text/plain": [
       "[0, 0, 0, 0, 0, 0, 0, 0, 1, 1, 1, 1, 2, 2, 2, 2]"
      ]
     },
     "execution_count": 4,
     "metadata": {},
     "output_type": "execute_result"
    }
   ],
   "source": [
    "sort012([0, 1, 1, 0, 0, 2, 1, 0, 1, 2, 2, 2, 0, 0, 0, 0])"
   ]
  },
  {
   "cell_type": "code",
   "execution_count": 34,
   "id": "6da5ab3a-c4da-41f4-bc6f-828b7175868c",
   "metadata": {},
   "outputs": [],
   "source": [
    "def binarysearch(arr, K): # From memory, a binary search is the divide-and-conquer trick where you divide a search set in half over and over again. It's completely possible I'm misremembering this, though. Update from before I finished typing \"misremembering\": I looked it up and I remembered correctly :)\n",
    "    N = len(arr) # I still don't want to have to pass it every time.\n",
    "    if arr[-1] == K:\n",
    "        return N-1\n",
    "    elif arr[-1] < K or N <= 1:\n",
    "        return -1\n",
    "    else:\n",
    "        N1 = int(N/2)\n",
    "        o = binarysearch(arr[0:N1], K)\n",
    "        if o == -1:\n",
    "            o = binarysearch(arr[N1:-1] if N1 > 1 else [arr[-1]], K)\n",
    "            return o if o == -1 else o+N1\n",
    "        else:\n",
    "            return o\n"
   ]
  },
  {
   "cell_type": "code",
   "execution_count": 20,
   "id": "5b861128-2d0f-4b39-a62f-d05b6b0cb855",
   "metadata": {},
   "outputs": [],
   "source": [
    "from random import randint"
   ]
  },
  {
   "cell_type": "code",
   "execution_count": 22,
   "id": "41a700f7-bcce-4f8e-ab7e-70cea07f7b8b",
   "metadata": {},
   "outputs": [],
   "source": [
    "a = [randint(0, 100) for _ in range(50)]"
   ]
  },
  {
   "cell_type": "code",
   "execution_count": 24,
   "id": "bf40d511-a0b7-47fd-bb90-6c98ce4ccd73",
   "metadata": {},
   "outputs": [],
   "source": [
    "a.sort()"
   ]
  },
  {
   "cell_type": "code",
   "execution_count": 26,
   "id": "451191a7-5451-4051-87cc-b1db2e9e99f3",
   "metadata": {},
   "outputs": [
    {
     "data": {
      "text/plain": [
       "[5,\n",
       " 8,\n",
       " 11,\n",
       " 12,\n",
       " 14,\n",
       " 15,\n",
       " 16,\n",
       " 16,\n",
       " 18,\n",
       " 20,\n",
       " 20,\n",
       " 21,\n",
       " 30,\n",
       " 31,\n",
       " 31,\n",
       " 33,\n",
       " 37,\n",
       " 39,\n",
       " 39,\n",
       " 41,\n",
       " 43,\n",
       " 43,\n",
       " 43,\n",
       " 45,\n",
       " 46,\n",
       " 50,\n",
       " 52,\n",
       " 56,\n",
       " 58,\n",
       " 61,\n",
       " 64,\n",
       " 65,\n",
       " 66,\n",
       " 66,\n",
       " 66,\n",
       " 67,\n",
       " 70,\n",
       " 72,\n",
       " 74,\n",
       " 77,\n",
       " 79,\n",
       " 85,\n",
       " 85,\n",
       " 87,\n",
       " 90,\n",
       " 92,\n",
       " 93,\n",
       " 94,\n",
       " 100,\n",
       " 100]"
      ]
     },
     "execution_count": 26,
     "metadata": {},
     "output_type": "execute_result"
    }
   ],
   "source": [
    "a"
   ]
  },
  {
   "cell_type": "code",
   "execution_count": 29,
   "id": "ad4ff7c1-3973-4117-96aa-2362c2177431",
   "metadata": {},
   "outputs": [
    {
     "data": {
      "text/plain": [
       "0"
      ]
     },
     "execution_count": 29,
     "metadata": {},
     "output_type": "execute_result"
    }
   ],
   "source": [
    "binarysearch(a, 5)"
   ]
  },
  {
   "cell_type": "code",
   "execution_count": 30,
   "id": "1a704bbd-5ec1-4aa5-87ff-eeb6757f46c7",
   "metadata": {},
   "outputs": [
    {
     "data": {
      "text/plain": [
       "1"
      ]
     },
     "execution_count": 30,
     "metadata": {},
     "output_type": "execute_result"
    }
   ],
   "source": [
    "binarysearch(a, 8)"
   ]
  },
  {
   "cell_type": "code",
   "execution_count": 31,
   "id": "5dab8bca-9d1b-4828-9186-fcffac828c29",
   "metadata": {},
   "outputs": [
    {
     "data": {
      "text/plain": [
       "49"
      ]
     },
     "execution_count": 31,
     "metadata": {},
     "output_type": "execute_result"
    }
   ],
   "source": [
    "binarysearch(a, 100)"
   ]
  },
  {
   "cell_type": "code",
   "execution_count": 32,
   "id": "85b4e818-4909-494d-915b-c1e774dbb3da",
   "metadata": {},
   "outputs": [
    {
     "data": {
      "text/plain": [
       "22"
      ]
     },
     "execution_count": 32,
     "metadata": {},
     "output_type": "execute_result"
    }
   ],
   "source": [
    "binarysearch(a, 43)"
   ]
  },
  {
   "cell_type": "code",
   "execution_count": 35,
   "id": "5bc3cb19-e7c0-4b38-a548-3dd59bdf919c",
   "metadata": {},
   "outputs": [
    {
     "data": {
      "text/plain": [
       "-1"
      ]
     },
     "execution_count": 35,
     "metadata": {},
     "output_type": "execute_result"
    }
   ],
   "source": [
    "binarysearch(a, 42)"
   ]
  }
 ],
 "metadata": {
  "kernelspec": {
   "display_name": "Python 3 (ipykernel)",
   "language": "python",
   "name": "python3"
  },
  "language_info": {
   "codemirror_mode": {
    "name": "ipython",
    "version": 3
   },
   "file_extension": ".py",
   "mimetype": "text/x-python",
   "name": "python",
   "nbconvert_exporter": "python",
   "pygments_lexer": "ipython3",
   "version": "3.11.8"
  }
 },
 "nbformat": 4,
 "nbformat_minor": 5
}
